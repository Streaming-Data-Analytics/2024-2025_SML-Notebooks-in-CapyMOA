{
 "cells": [
  {
   "cell_type": "markdown",
   "metadata": {},
   "source": [
    "# Imports"
   ]
  },
  {
   "cell_type": "code",
   "execution_count": 1,
   "metadata": {},
   "outputs": [
    {
     "name": "stderr",
     "output_type": "stream",
     "text": [
      "/Users/sebastianballesteros/Documents/Polimi/LastSemester/Streaming Data Analytics/2024-2025_SML-Notebooks-in-CapyMOA/sml-env/lib/python3.11/site-packages/tqdm/auto.py:21: TqdmWarning: IProgress not found. Please update jupyter and ipywidgets. See https://ipywidgets.readthedocs.io/en/stable/user_install.html\n",
      "  from .autonotebook import tqdm as notebook_tqdm\n"
     ]
    }
   ],
   "source": [
    "# CapyMoa\n",
    "from capymoa.datasets import Electricity, Covtype, Fried\n",
    "from capymoa.evaluation import ClassificationEvaluator, ClassificationWindowedEvaluator, prequential_evaluation\n",
    "from capymoa.classifier import HoeffdingAdaptiveTree, AdaptiveRandomForestClassifier, EFDT\n",
    "from capymoa.classifier import OnlineAdwinBagging, LeveragingBagging\n",
    "from capymoa.regressor import AdaptiveRandomForestRegressor\n",
    "\n",
    "# River\n",
    "from river.evaluate import progressive_val_score\n",
    "from river.stream import iter_sklearn_dataset\n",
    "from river.metrics import Accuracy\n",
    "\n",
    "from river.tree import HoeffdingAdaptiveTreeClassifier, ExtremelyFastDecisionTreeClassifier\n",
    "from river.forest import ARFClassifier, ARFRegressor\n",
    "from river.ensemble import ADWINBaggingClassifier, LeveragingBaggingClassifier\n",
    "\n",
    "# Scikit learn\n",
    "from sklearn import preprocessing, model_selection, datasets, metrics\n",
    "\n",
    "# Miscellaneous for tracking\n",
    "import time, tracemalloc, psutil\n"
   ]
  }
 ],
 "metadata": {
  "kernelspec": {
   "display_name": "sml-env",
   "language": "python",
   "name": "python3"
  },
  "language_info": {
   "codemirror_mode": {
    "name": "ipython",
    "version": 3
   },
   "file_extension": ".py",
   "mimetype": "text/x-python",
   "name": "python",
   "nbconvert_exporter": "python",
   "pygments_lexer": "ipython3",
   "version": "3.11.5"
  }
 },
 "nbformat": 4,
 "nbformat_minor": 2
}
