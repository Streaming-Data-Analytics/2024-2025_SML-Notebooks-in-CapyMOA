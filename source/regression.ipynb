{
 "cells": [
  {
   "cell_type": "markdown",
   "metadata": {},
   "source": [
    "# Imports "
   ]
  },
  {
   "cell_type": "code",
   "execution_count": null,
   "metadata": {},
   "outputs": [],
   "source": [
    "# CapyMoa\n",
    "from capymoa.datasets import Electricity, Covtype, Fried\n",
    "from capymoa.evaluation import ClassificationEvaluator, ClassificationWindowedEvaluator, prequential_evaluation\n",
    "from capymoa.regressor import KNNRegressor, FIMTDD\n",
    "\n",
    "# River\n",
    "from river.evaluate import progressive_val_score\n",
    "from river.stream import iter_sklearn_dataset\n",
    "from river.metrics import Accuracy\n",
    "\n",
    "from river.tree import  HoeffdingTreeRegressor\n",
    "from river.neighbors import KNNRegressor\n",
    "\n",
    "# Scikit learn\n",
    "from sklearn import preprocessing, model_selection, datasets, metrics\n",
    "\n",
    "# Miscellaneous for tracking\n",
    "import time, tracemalloc, psutil"
   ]
  }
 ],
 "metadata": {
  "kernelspec": {
   "display_name": "sml-env",
   "language": "python",
   "name": "python3"
  },
  "language_info": {
   "name": "python",
   "version": "3.11.5"
  }
 },
 "nbformat": 4,
 "nbformat_minor": 2
}
