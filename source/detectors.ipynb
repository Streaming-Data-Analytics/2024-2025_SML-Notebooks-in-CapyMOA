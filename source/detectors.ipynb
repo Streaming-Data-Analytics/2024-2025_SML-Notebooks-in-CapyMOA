{
 "cells": [
  {
   "cell_type": "markdown",
   "metadata": {},
   "source": [
    "# Description \n",
    "\n",
    "This notebook demonstrates how to conduct drift detection using CapyMOA. Then test different drift detectors and evaluating detectors based on known drift location. In addition, we compare the functionalities with River. "
   ]
  },
  {
   "cell_type": "markdown",
   "metadata": {},
   "source": [
    "# Imports"
   ]
  },
  {
   "cell_type": "code",
   "execution_count": 101,
   "metadata": {},
   "outputs": [],
   "source": [
    "# CapyMoa\n",
    "import capymoa.drift.detectors as detectors\n",
    "from capymoa.drift.detectors import ADWIN\n",
    "from capymoa.drift.eval_detector import EvaluateDetector\n",
    "from capymoa.drift.detectors import ABCD\n",
    "from capymoa.datasets import ElectricityTiny\n",
    "\n",
    "# River\n",
    "from river import drift\n",
    "\n",
    "# Miscellaneous for tracking\n",
    "import time, tracemalloc, psutil\n",
    "import matplotlib.pyplot as plt\n",
    "import numpy as np\n",
    "import pandas as pd\n",
    "import random\n"
   ]
  },
  {
   "cell_type": "markdown",
   "metadata": {},
   "source": [
    "# Utils"
   ]
  },
  {
   "cell_type": "code",
   "execution_count": 3,
   "metadata": {},
   "outputs": [],
   "source": [
    "# Generator to yield (x_dict, y) in river format\n",
    "def capymoa_to_river_stream(stream):\n",
    "    feature_names = stream.get_schema().get_numeric_attributes()\n",
    "    for instance in stream:\n",
    "        x_dict = dict(zip(feature_names, instance.x))\n",
    "        y = instance.y_index \n",
    "        yield x_dict, y\n",
    "\n",
    "# Start measurements\n",
    "def start_measurements():\n",
    "    tracemalloc.start()\n",
    "    start_time = time.time()\n",
    "    cpu_start = psutil.cpu_percent(interval=None)\n",
    "    return start_time, cpu_start\n",
    "\n",
    "def end_measurements():\n",
    "    end_time = time.time()\n",
    "    cpu_end = psutil.cpu_percent(interval=None)\n",
    "    current, peak = tracemalloc.get_traced_memory()\n",
    "    tracemalloc.stop()\n",
    "    return end_time, cpu_end, current, peak\n",
    "\n",
    "# Function to plot the results\n",
    "def plot_results(results, plot_title):\n",
    "    # Print results for each learner\n",
    "    for name, scores in results.items():\n",
    "        rmse_values = [score['RMSE'].get() for score in scores]\n",
    "        steps = [score['Step'] for score in scores]  \n",
    "        plt.plot(steps, rmse_values, label=name)\n",
    "\n",
    "    plt.xlabel(\"Instance\")\n",
    "    plt.ylabel(\"Metric\")\n",
    "    plt.title(plot_title)\n",
    "    plt.legend()\n",
    "    plt.grid(True)\n",
    "    plt.show()"
   ]
  },
  {
   "cell_type": "markdown",
   "metadata": {},
   "source": [
    "# CapyMOA"
   ]
  },
  {
   "cell_type": "code",
   "execution_count": null,
   "metadata": {},
   "outputs": [
    {
     "name": "stdout",
     "output_type": "stream",
     "text": [
      "ADWIN                       1\n",
      "CUSUM                       2\n",
      "DDM                         1\n",
      "EWMAChart                   1\n",
      "GeometricMovingAverage      1\n",
      "HDDMAverage               146\n",
      "HDDMWeighted               88\n",
      "PageHinkley                 2\n",
      "RDDM                        1\n",
      "SEED                        1\n",
      "STEPD                       1\n",
      "ABCD                        1\n",
      "dtype: int64\n"
     ]
    }
   ],
   "source": [
    "# Create random data to mimic a data stream\n",
    "data_stream = np.random.randint(2, size=2000)\n",
    "# Introduce different distribution on a given range\n",
    "for i in range(999, 2000):\n",
    "    data_stream[i] = np.random.randint(6, high=12)\n",
    "\n",
    "# Get all the detectors available in CapyMOA\n",
    "all_detectors = detectors.__all__\n",
    "\n",
    "n_detections = {k: 0 for k in all_detectors}\n",
    "# Iterate through detectors \n",
    "for detector_name in all_detectors:\n",
    "    detector = getattr(detectors, detector_name)()\n",
    "    #Iterate through the data stream \n",
    "    for i in range(2000):\n",
    "        detector.add_element(float(data_stream[i]))\n",
    "        # If the detector detected a drift add it to number of detections\n",
    "        if detector.detected_change():\n",
    "            n_detections[detector_name] += 1\n",
    "\n",
    "print(pd.Series(n_detections))"
   ]
  },
  {
   "cell_type": "markdown",
   "metadata": {},
   "source": [
    "Now we focus on ADWIN "
   ]
  },
  {
   "cell_type": "code",
   "execution_count": 105,
   "metadata": {},
   "outputs": [
    {
     "name": "stdout",
     "output_type": "stream",
     "text": [
      "Change detected in data: 7 - at index: 1023\n",
      "Change detected in data: 11 - at index: 1279\n",
      "Summary of detections' index:  [1024, 1280]\n",
      "Summary of warning detections' index:  []\n"
     ]
    }
   ],
   "source": [
    "detector = ADWIN(delta=0.001)\n",
    "\n",
    "for i in range(2000):\n",
    "    detector.add_element(data_stream[i])\n",
    "    if detector.detected_change():\n",
    "        print(\n",
    "            \"Change detected in data: \" + str(data_stream[i]) + \" - at index: \" + str(i)\n",
    "        )\n",
    "\n",
    "# Detection indices\n",
    "print(\"Summary of detections' index: \", detector.detection_index)\n",
    "\n",
    "# Warning indices\n",
    "print(\"Summary of warning detections' index: \", detector.warning_index)"
   ]
  },
  {
   "cell_type": "markdown",
   "metadata": {},
   "source": [
    "Now we evaluate detectors"
   ]
  },
  {
   "cell_type": "code",
   "execution_count": 104,
   "metadata": {},
   "outputs": [
    {
     "name": "stdout",
     "output_type": "stream",
     "text": [
      "A 2-dimensional stream\n",
      "Change detected at index: 3059\n"
     ]
    },
    {
     "data": {
      "text/plain": [
       "Text(0, 0.5, 'Reconstruction loss')"
      ]
     },
     "execution_count": 104,
     "metadata": {},
     "output_type": "execute_result"
    },
    {
     "data": {
      "image/png": "[encoded data removed]",
      "text/plain": [
       "<Figure size 640x480 with 1 Axes>"
      ]
     },
     "metadata": {},
     "output_type": "display_data"
    }
   ],
   "source": [
    "detector = ABCD()\n",
    "\n",
    "## Opening a file as a stream\n",
    "stream = ElectricityTiny()\n",
    "\n",
    "detector = ABCD(model_id=\"pca\")\n",
    "\n",
    "## Opening a file as a stream\n",
    "stream_change = np.hstack(\n",
    "    [np.random.uniform(0, 0.5, 3000), np.random.uniform(0.5, 1.0, 3000)]\n",
    ")\n",
    "stream_nochange = np.random.uniform(0, 1.0, len(stream_change))\n",
    "stream = np.vstack([stream_change, stream_nochange]).T\n",
    "print(f\"A {stream.shape[-1]}-dimensional stream\")\n",
    "\n",
    "i = 0\n",
    "loss_values = []\n",
    "while i < len(stream):\n",
    "    instance = stream[i]\n",
    "    i += 1\n",
    "    detector.add_element(instance)\n",
    "    loss_values.append(detector.loss())\n",
    "    if detector.detected_change():\n",
    "        print(\"Change detected at index: \" + str(i))\n",
    "\n",
    "plt.plot(pd.Series(loss_values).rolling(10).mean())\n",
    "plt.title(\"ABCD with PCA\")\n",
    "plt.xlabel(\"# Instances\")\n",
    "plt.ylabel(\"Reconstruction loss\")"
   ]
  },
  {
   "cell_type": "markdown",
   "metadata": {},
   "source": [
    "# River"
   ]
  },
  {
   "cell_type": "code",
   "execution_count": null,
   "metadata": {},
   "outputs": [
    {
     "name": "stdout",
     "output_type": "stream",
     "text": [
      "ADWIN  detected at index: 1023\n",
      "PageHinkley  detected at index: 1002\n",
      "PageHinkley  detected at index: 1479\n",
      "Kolmogorov-Smirnov Windowing  detected at index: 1015\n",
      "---------------------\n",
      "ADWIN                           1\n",
      "PageHinkley                     2\n",
      "Kolmogorov-Smirnov Windowing    1\n",
      "dtype: int64\n"
     ]
    }
   ],
   "source": [
    "import inspect \n",
    "\n",
    "# Get all the detectors available in CapyMOA\n",
    "all_detectors = {\n",
    "    'ADWIN': drift.ADWIN(),\n",
    "    'PageHinkley': drift.PageHinkley(),\n",
    "    'Kolmogorov-Smirnov Windowing': drift.KSWIN(alpha=0.0001, seed=42),\n",
    "}\n",
    "\n",
    "# Create random data to mimic a data stream\n",
    "data_stream = np.random.randint(2, size=2000)\n",
    "# Introduce different distribution on a given range\n",
    "for i in range(999, 2000):\n",
    "    data_stream[i] = np.random.randint(6, high=12)\n",
    "\n",
    "n_detections = {k: 0 for k in all_detectors}\n",
    "# Iterate through detectors \n",
    "for detector_name, detector in all_detectors.items():\n",
    "    # Iterate through data stream \n",
    "    for i in range(2000):\n",
    "        detector.update(float(data_stream[i]))\n",
    "        # If the detector detected a drift add it to number of detections\n",
    "        if detector.drift_detected:\n",
    "            print(detector_name, f\" detected at index: {i}\")\n",
    "            n_detections[detector_name] += 1\n",
    "\n",
    "print('---------------------')\n",
    "print(pd.Series(n_detections))\n"
   ]
  },
  {
   "cell_type": "code",
   "execution_count": 102,
   "metadata": {},
   "outputs": [
    {
     "name": "stdout",
     "output_type": "stream",
     "text": [
      "Drift Detection Method\n",
      "Drift Detection Method  detected at index: 1334\n",
      "Early Drift Detection Method\n",
      "Early Drift Detection Method  detected at index: 1278\n",
      "Fast Hoeffding Drift Detection Method\n",
      "Fast Hoeffding Drift Detection Method  detected at index: 508\n",
      "Hoeffding Bound Moving Average\n",
      "Hoeffding Bound Moving Average  detected at index: 1206\n",
      "Hoeffding Bound Weighted Average\n",
      "Hoeffding Bound Weighted Average  detected at index: 1077\n",
      "---------------------\n",
      "Drift Detection Method                   {'detections': 1, 'warnings': 587}\n",
      "Early Drift Detection Method             {'detections': 1, 'warnings': 220}\n",
      "Fast Hoeffding Drift Detection Method      {'detections': 1, 'warnings': 0}\n",
      "Hoeffding Bound Moving Average            {'detections': 1, 'warnings': 75}\n",
      "Hoeffding Bound Weighted Average          {'detections': 1, 'warnings': 14}\n",
      "dtype: object\n"
     ]
    }
   ],
   "source": [
    "# Get all the detectors available in CapyMOA\n",
    "all_detectors = {\n",
    "    'Drift Detection Method': drift.binary.DDM(),\n",
    "    'Early Drift Detection Method': drift.binary.EDDM(alpha=0.8, beta=0.75),\n",
    "    'Fast Hoeffding Drift Detection Method': drift.binary.FHDDM(short_window_size = 20),\n",
    "    'Hoeffding Bound Moving Average': drift.binary.HDDM_A(),\n",
    "    'Hoeffding Bound Weighted Average': drift.binary.HDDM_W()\n",
    "}\n",
    "\n",
    "# Create random data to mimic a data stream\n",
    "rng = random.Random(42)\n",
    "data_stream = rng.choices([0, 1], k=1000)\n",
    "data_stream = data_stream + rng.choices([0, 1], k=1000, weights=[0.3, 0.7])\n",
    "\n",
    "n_detections = {k: {'detections': 0, 'warnings': 0} for k in all_detectors}\n",
    "for detector_name, detector in all_detectors.items():\n",
    "    print(detector_name)\n",
    "    # Iterate through data stream \n",
    "    for i, x in enumerate(data_stream):\n",
    "        detector.update(x)\n",
    "        if detector.drift_detected:\n",
    "            print(detector_name, f\" detected at index: {i}\")\n",
    "            n_detections[detector_name]['detections'] += 1\n",
    "        if detector.warning_detected:\n",
    "            n_detections[detector_name]['warnings'] += 1\n",
    "\n",
    "print('---------------------')\n",
    "print(pd.Series(n_detections))"
   ]
  }
 ],
 "metadata": {
  "kernelspec": {
   "display_name": "sml-env",
   "language": "python",
   "name": "python3"
  },
  "language_info": {
   "codemirror_mode": {
    "name": "ipython",
    "version": 3
   },
   "file_extension": ".py",
   "mimetype": "text/x-python",
   "name": "python",
   "nbconvert_exporter": "python",
   "pygments_lexer": "ipython3",
   "version": "3.11.5"
  }
 },
 "nbformat": 4,
 "nbformat_minor": 2
}
