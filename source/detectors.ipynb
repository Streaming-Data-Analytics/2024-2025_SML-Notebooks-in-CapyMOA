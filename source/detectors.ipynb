{
 "cells": [
  {
   "cell_type": "markdown",
   "metadata": {},
   "source": [
    "# Description \n",
    "\n",
    "This notebook demonstrates how to conduct drift detection using CapyMOA. Then test different drift detectors and evaluating detectors based on known drift location. In addition, we compare the functionalities with River. "
   ]
  },
  {
   "cell_type": "markdown",
   "metadata": {},
   "source": [
    "# Imports"
   ]
  },
  {
   "cell_type": "code",
   "execution_count": 3,
   "metadata": {},
   "outputs": [],
   "source": [
    "# CapyMoa\n",
    "import capymoa.drift.detectors as detectors\n",
    "from capymoa.drift.detectors import ADWIN\n",
    "from capymoa.drift.eval_detector import EvaluateDetector\n",
    "from capymoa.drift.detectors import ABCD\n",
    "from capymoa.datasets import ElectricityTiny\n",
    "\n",
    "# River\n",
    "from river import drift\n",
    "\n",
    "# Miscellaneous for tracking\n",
    "import time, tracemalloc, psutil\n",
    "import matplotlib.pyplot as plt\n",
    "import numpy as np\n",
    "import pandas as pd\n",
    "import random\n"
   ]
  },
  {
   "cell_type": "markdown",
   "metadata": {},
   "source": [
    "# Utils"
   ]
  },
  {
   "cell_type": "code",
   "execution_count": 5,
   "metadata": {},
   "outputs": [],
   "source": [
    "# Generator to yield (x_dict, y) in river format\n",
    "def capymoa_to_river_stream(stream):\n",
    "    feature_names = stream.get_schema().get_numeric_attributes()\n",
    "    for instance in stream:\n",
    "        x_dict = dict(zip(feature_names, instance.x))\n",
    "        y = instance.y_index \n",
    "        yield x_dict, y\n",
    "\n",
    "# Start measurements\n",
    "def start_measurements():\n",
    "    tracemalloc.start()\n",
    "    start_time = time.time()\n",
    "    cpu_start = psutil.cpu_percent(interval=None)\n",
    "    return start_time, cpu_start\n",
    "\n",
    "def end_measurements():\n",
    "    end_time = time.time()\n",
    "    cpu_end = psutil.cpu_percent(interval=None)\n",
    "    current, peak = tracemalloc.get_traced_memory()\n",
    "    tracemalloc.stop()\n",
    "    return end_time, cpu_end, current, peak\n",
    "\n",
    "# Function to plot the results\n",
    "def plot_results(results, plot_title):\n",
    "    # Print results for each learner\n",
    "    for name, scores in results.items():\n",
    "        rmse_values = [score['RMSE'].get() for score in scores]\n",
    "        steps = [score['Step'] for score in scores]  \n",
    "        plt.plot(steps, rmse_values, label=name)\n",
    "\n",
    "    plt.xlabel(\"Instance\")\n",
    "    plt.ylabel(\"Metric\")\n",
    "    plt.title(plot_title)\n",
    "    plt.legend()\n",
    "    plt.grid(True)\n",
    "    plt.show()"
   ]
  },
  {
   "cell_type": "markdown",
   "metadata": {},
   "source": [
    "# CapyMOA"
   ]
  },
  {
   "cell_type": "markdown",
   "metadata": {},
   "source": [
    "Here we simulate a data stream with a concept drift and evaluates how well various drift detection algorithms from the CapyMOA library can detect changes. Initially, the stream contains binary values (0 or 1), followed by a shift to values ranging from 6 to 11 at instance 999. Each detector from CapyMOA's available list is applied to the stream, and the number of times each detects a drift is recorded. The final output is a summary of drift detections per detector, useful for comparative analysis of their sensitivity and reactivity to distributional changes."
   ]
  },
  {
   "cell_type": "code",
   "execution_count": 6,
   "metadata": {},
   "outputs": [
    {
     "name": "stdout",
     "output_type": "stream",
     "text": [
      "ADWIN                       1\n",
      "CUSUM                       1\n",
      "DDM                         1\n",
      "EWMAChart                   1\n",
      "GeometricMovingAverage      1\n",
      "HDDMAverage               129\n",
      "HDDMWeighted               97\n",
      "PageHinkley                 1\n",
      "RDDM                        1\n",
      "SEED                        1\n",
      "STEPD                       1\n",
      "ABCD                        1\n",
      "dtype: int64\n"
     ]
    }
   ],
   "source": [
    "# Create random data to mimic a data stream\n",
    "data_stream = np.random.randint(2, size=2000)\n",
    "# Introduce different distribution on a given range\n",
    "for i in range(999, 2000):\n",
    "    data_stream[i] = np.random.randint(6, high=12)\n",
    "\n",
    "# Get all the detectors available in CapyMOA\n",
    "all_detectors = detectors.__all__\n",
    "\n",
    "n_detections = {k: 0 for k in all_detectors}\n",
    "# Iterate through detectors \n",
    "for detector_name in all_detectors:\n",
    "    # Create an instance of the detector\n",
    "    detector = getattr(detectors, detector_name)()\n",
    "    \n",
    "    #Iterate through the data stream \n",
    "    for i in range(2000):\n",
    "        detector.add_element(float(data_stream[i]))\n",
    "        # If the detector detected a drift add it to number of detections\n",
    "        if detector.detected_change():\n",
    "            n_detections[detector_name] += 1\n",
    "\n",
    "print(pd.Series(n_detections))"
   ]
  },
  {
   "cell_type": "markdown",
   "metadata": {},
   "source": [
    "Now we focus on the ADWIN (ADaptive WINdowing) drift detection algorithm to monitor a synthetic data stream for concept drift. ADWIN dynamically adjusts a sliding window over the stream and triggers a drift when the distribution within the window significantly changes. The stream is composed of binary values at first, followed by a sudden change to a different value range, simulating drift. Finally, we provide summaries of both drift and warning detection points."
   ]
  },
  {
   "cell_type": "code",
   "execution_count": 7,
   "metadata": {},
   "outputs": [
    {
     "name": "stdout",
     "output_type": "stream",
     "text": [
      "Change detected in data: 7 - at index: 1023\n",
      "Summary of detections' index:  [1024]\n",
      "Summary of warning detections' index:  []\n"
     ]
    }
   ],
   "source": [
    "# Initialize the ADWIN detector with a small delta for higher sensitivity\n",
    "detector = ADWIN(delta=0.001)\n",
    "\n",
    "# Loop over the synthetic data stream of 2000 instances\n",
    "for i in range(2000):\n",
    "    detector.add_element(data_stream[i])\n",
    "    if detector.detected_change():\n",
    "        print(\n",
    "            \"Change detected in data: \" + str(data_stream[i]) + \" - at index: \" + str(i)\n",
    "        )\n",
    "\n",
    "# Detection indices\n",
    "print(\"Summary of detections' index: \", detector.detection_index)\n",
    "\n",
    "# Warning indices\n",
    "print(\"Summary of warning detections' index: \", detector.warning_index)"
   ]
  },
  {
   "cell_type": "markdown",
   "metadata": {},
   "source": [
    "Assuming the drift locations are known, you can evaluate detectors using EvaluateDetector class\n",
    "\n",
    "This class takes a parameter called max_delay, which is the maximum number of instances for which we consider a detector to have detected a change. After max_delay instances, we assume that the change is obvious and have been missed by the detector."
   ]
  },
  {
   "cell_type": "code",
   "execution_count": 8,
   "metadata": {},
   "outputs": [
    {
     "data": {
      "text/plain": [
       "mean_time_to_detect           24.0\n",
       "missed_detection_ratio         0.0\n",
       "mean_time_btw_false_alarms     NaN\n",
       "no_alarms_per_episode          0.0\n",
       "dtype: float64"
      ]
     },
     "execution_count": 8,
     "metadata": {},
     "output_type": "execute_result"
    }
   ],
   "source": [
    "eval = EvaluateDetector(max_delay=200)\n",
    "trues = np.array([1000])\n",
    "preds = detector.detection_index\n",
    "\n",
    "eval.calc_performance(preds, trues)"
   ]
  },
  {
   "cell_type": "markdown",
   "metadata": {},
   "source": [
    "## Multivariate Drift Detection\n",
    "\n",
    "CapyMOA supports multivariate drift detection. Specifically, it includes the ABCD (Adaptive Bernstein Change Detector), which is designed to handle both univariate and multivariate data streams. This allows for the detection of complex changes in the joint distribution of multiple features, which univariate detectors might miss. We demonstrate the use of the ABCD (Autoencoder-Based Change Detection) method for identifying concept drift in a multidimensional stream. It applies a PCA reconstruction loss strategy, where changes in the input distribution lead to higher reconstruction errors, indicating a drift. The reconstruction loss is tracked and plotted to visually identify drift patterns."
   ]
  },
  {
   "cell_type": "code",
   "execution_count": 9,
   "metadata": {},
   "outputs": [
    {
     "name": "stdout",
     "output_type": "stream",
     "text": [
      "A 2-dimensional stream\n",
      "Change detected at index: 3057\n"
     ]
    },
    {
     "data": {
      "text/plain": [
       "Text(0, 0.5, 'Reconstruction loss')"
      ]
     },
     "execution_count": 9,
     "metadata": {},
     "output_type": "execute_result"
    },
    {
     "data": {
      "image/png": "[encoded data removed]",
      "text/plain": [
       "<Figure size 640x480 with 1 Axes>"
      ]
     },
     "metadata": {},
     "output_type": "display_data"
    }
   ],
   "source": [
    "# Initialize ABCD with PCA as the reconstruction model\n",
    "detector = ABCD(model_id=\"pca\")\n",
    "\n",
    "# Create a synthetic data stream where the distribution shifts in the middle\n",
    "# First half: values between 0 and 0.5; Second half: values between 0.5 and 1.0\n",
    "stream_change = np.hstack(\n",
    "    [np.random.uniform(0, 0.5, 3000), np.random.uniform(0.5, 1.0, 3000)]\n",
    ")\n",
    "\n",
    "# Create a control stream with no distributional shift for comparison\n",
    "stream_nochange = np.random.uniform(0, 1.0, len(stream_change))\n",
    "\n",
    "# Stack both streams into a 2D structure: one column with drift, the other without\n",
    "stream = np.vstack([stream_change, stream_nochange]).T\n",
    "print(f\"A {stream.shape[-1]}-dimensional stream\")\n",
    "\n",
    "i = 0\n",
    "loss_values = []\n",
    "\n",
    "# Loop over the data stream\n",
    "while i < len(stream):\n",
    "    instance = stream[i]\n",
    "    i += 1\n",
    "    detector.add_element(instance)\n",
    "    loss_values.append(detector.loss())\n",
    "    if detector.detected_change():\n",
    "        print(\"Change detected at index: \" + str(i))\n",
    "\n",
    "plt.plot(pd.Series(loss_values).rolling(10).mean())\n",
    "plt.title(\"ABCD with PCA\")\n",
    "plt.xlabel(\"# Instances\")\n",
    "plt.ylabel(\"Reconstruction loss\")"
   ]
  },
  {
   "cell_type": "markdown",
   "metadata": {},
   "source": [
    "River does not currently provide built-in support for multivariate drift detection, which involves analyzing changes in the joint distribution of multiple features simultaneously. "
   ]
  },
  {
   "cell_type": "markdown",
   "metadata": {},
   "source": [
    "# River"
   ]
  },
  {
   "cell_type": "markdown",
   "metadata": {},
   "source": [
    "We try to apply multiple drift detection algorithms implemented by River (ADWIN, Page-Hinkley, and KSWIN) on a the same data stream where a distributional change is introduced halfway through. "
   ]
  },
  {
   "cell_type": "code",
   "execution_count": 10,
   "metadata": {},
   "outputs": [
    {
     "name": "stdout",
     "output_type": "stream",
     "text": [
      "ADWIN  detected at index: 1023\n",
      "PageHinkley  detected at index: 1003\n",
      "PageHinkley  detected at index: 1259\n",
      "PageHinkley  detected at index: 1609\n",
      "PageHinkley  detected at index: 1832\n",
      "Kolmogorov-Smirnov Windowing  detected at index: 1015\n",
      "---------------------\n",
      "ADWIN                           1\n",
      "PageHinkley                     4\n",
      "Kolmogorov-Smirnov Windowing    1\n",
      "dtype: int64\n"
     ]
    }
   ],
   "source": [
    "# Get all the detectors available in River\n",
    "all_detectors = {\n",
    "    'ADWIN': drift.ADWIN(),\n",
    "    'PageHinkley': drift.PageHinkley(),\n",
    "    'Kolmogorov-Smirnov Windowing': drift.KSWIN(alpha=0.0001, seed=42),\n",
    "}\n",
    "\n",
    "# Create random data to mimic a data stream\n",
    "data_stream = np.random.randint(2, size=2000)\n",
    "# Introduce different distribution on a given range\n",
    "for i in range(999, 2000):\n",
    "    data_stream[i] = np.random.randint(6, high=12)\n",
    "\n",
    "n_detections = {k: 0 for k in all_detectors}\n",
    "# Iterate through detectors \n",
    "for detector_name, detector in all_detectors.items():\n",
    "    # Iterate through data stream \n",
    "    for i in range(2000):\n",
    "        detector.update(float(data_stream[i]))\n",
    "        # If the detector detected a drift add it to number of detections\n",
    "        if detector.drift_detected:\n",
    "            print(detector_name, f\" detected at index: {i}\")\n",
    "            n_detections[detector_name] += 1\n",
    "\n",
    "print('---------------------')\n",
    "print(pd.Series(n_detections))\n"
   ]
  },
  {
   "cell_type": "markdown",
   "metadata": {},
   "source": [
    "Finally, we evaluate five binary drift detection algorithms from River: DDM, EDDM, FHDDM, HDDM_A, and HDDM_W. They’re statistical tests on binary inputs, usually modeling error rates over time."
   ]
  },
  {
   "cell_type": "code",
   "execution_count": null,
   "metadata": {},
   "outputs": [
    {
     "name": "stdout",
     "output_type": "stream",
     "text": [
      "Drift Detection Method\n",
      "Drift Detection Method  detected at index: 1334\n",
      "Early Drift Detection Method\n",
      "Early Drift Detection Method  detected at index: 1278\n",
      "Fast Hoeffding Drift Detection Method\n",
      "Fast Hoeffding Drift Detection Method  detected at index: 508\n",
      "Hoeffding Bound Moving Average\n",
      "Hoeffding Bound Moving Average  detected at index: 1206\n",
      "Hoeffding Bound Weighted Average\n",
      "Hoeffding Bound Weighted Average  detected at index: 1077\n",
      "---------------------\n",
      "Drift Detection Method                   {'detections': 1, 'warnings': 587}\n",
      "Early Drift Detection Method             {'detections': 1, 'warnings': 220}\n",
      "Fast Hoeffding Drift Detection Method      {'detections': 1, 'warnings': 0}\n",
      "Hoeffding Bound Moving Average            {'detections': 1, 'warnings': 75}\n",
      "Hoeffding Bound Weighted Average          {'detections': 1, 'warnings': 14}\n",
      "dtype: object\n"
     ]
    }
   ],
   "source": [
    "# Get all the detectors available in River\n",
    "all_detectors = {\n",
    "    'Drift Detection Method': drift.binary.DDM(),\n",
    "    'Early Drift Detection Method': drift.binary.EDDM(alpha=0.8, beta=0.75),\n",
    "    'Fast Hoeffding Drift Detection Method': drift.binary.FHDDM(short_window_size = 20),\n",
    "    'Hoeffding Bound Moving Average': drift.binary.HDDM_A(),\n",
    "    'Hoeffding Bound Weighted Average': drift.binary.HDDM_W()\n",
    "}\n",
    "\n",
    "# Create random data to mimic a data stream\n",
    "rng = random.Random(42)\n",
    "data_stream = rng.choices([0, 1], k=1000)\n",
    "data_stream = data_stream + rng.choices([0, 1], k=1000, weights=[0.3, 0.7])\n",
    "\n",
    "n_detections = {k: {'detections': 0, 'warnings': 0} for k in all_detectors}\n",
    "for detector_name, detector in all_detectors.items():\n",
    "    print(detector_name)\n",
    "    # Iterate through data stream \n",
    "    for i, x in enumerate(data_stream):\n",
    "        detector.update(x)\n",
    "        if detector.drift_detected:\n",
    "            print(detector_name, f\" detected at index: {i}\")\n",
    "            n_detections[detector_name]['detections'] += 1\n",
    "        if detector.warning_detected:\n",
    "            n_detections[detector_name]['warnings'] += 1\n",
    "\n",
    "print('---------------------')\n",
    "print(pd.Series(n_detections))"
   ]
  },
  {
   "cell_type": "markdown",
   "metadata": {},
   "source": [
    " Detectors like HDD Moving Average and HDD Weighted in CapyMOA showed high sensitivity, signaling numerous detections, while River's detectors like PageHinkley and EDDM were more conservative but effectively detected the primary distribution shift. Both libraries' versions of ADWIN consistently detected the same drift point i.e. 1023, showing they have similar implementations in both libraries. The disparity in number of detections, particularly from CapyMOA’s HDDM detector, suggests a higher responsiveness (or noise sensitivity), whereas River detectors might be less responsive. "
   ]
  }
 ],
 "metadata": {
  "kernelspec": {
   "display_name": "sml-env",
   "language": "python",
   "name": "python3"
  },
  "language_info": {
   "codemirror_mode": {
    "name": "ipython",
    "version": 3
   },
   "file_extension": ".py",
   "mimetype": "text/x-python",
   "name": "python",
   "nbconvert_exporter": "python",
   "pygments_lexer": "ipython3",
   "version": "3.11.5"
  }
 },
 "nbformat": 4,
 "nbformat_minor": 2
}
